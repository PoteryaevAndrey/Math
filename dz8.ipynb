{
 "cells": [
  {
   "cell_type": "code",
   "execution_count": 1,
   "id": "ef9e5be5",
   "metadata": {},
   "outputs": [],
   "source": [
    "import numpy as np\n",
    "import pandas as pd\n",
    "from scipy import stats"
   ]
  },
  {
   "attachments": {},
   "cell_type": "markdown",
   "id": "bad1d128",
   "metadata": {},
   "source": [
    "# Домашнее задание 8   \n",
    "\n",
    "## Задача 1\n",
    "\n",
    "> Даны значения величины заработной платы заемщиков банка (salary) и значения их поведенческого кредитного скоринга (scoring):  \n",
    "> salary = [35, 45, 190, 200, 40, 70, 54, 150, 120, 110]  \n",
    "> scoring = [401, 574, 874, 919, 459, 739, 653, 902, 746, 832]  \n",
    ">\n",
    ">- Найдите ковариацию этих двух величин: сначала без использования специальных функций, а затем с помощью функции numpy.cov. Полученные значения должны быть равны.  \n",
    ">- Найдите коэффициент корреляции Пирсона: с помощью ковариации и средних квадратических отклонений двух признаков, а затем с помощью специальных функций из библиотек numpy и pandas."
   ]
  },
  {
   "attachments": {},
   "cell_type": "markdown",
   "id": "b008fccc",
   "metadata": {},
   "source": [
    "1. Найдите ковариацию этих двух величин  \n",
    "    \n",
    "а. Без использования специальных функций\n",
    " "
   ]
  },
  {
   "cell_type": "code",
   "execution_count": 2,
   "id": "ae84ed4b",
   "metadata": {},
   "outputs": [
    {
     "name": "stdout",
     "output_type": "stream",
     "text": [
      "Несмещенная        Смещенная\n",
      " 9157.839999999997 10175.37777777778\n"
     ]
    }
   ],
   "source": [
    "zp  = np.array([35, 45, 190, 200, 40, 70, 54, 150, 120, 110])\n",
    "ks = np.array([401, 574, 874, 919, 459, 739, 653, 902, 746, 832])\n",
    "\n",
    "cov_r = (zp * ks).mean() - zp.mean() * ks.mean()\n",
    "\n",
    "cov_r_s = ((zp - zp.mean()) * (ks - ks.mean())).sum() / (zp.shape[0] - 1)\n",
    "print(\"Несмещенная        Смещенная\\n\",cov_r, cov_r_s)\n"
   ]
  },
  {
   "attachments": {},
   "cell_type": "markdown",
   "id": "a72627c6",
   "metadata": {},
   "source": [
    "    \n",
    "б. С помощью функции numpy.cov"
   ]
  },
  {
   "cell_type": "code",
   "execution_count": 3,
   "id": "6b65edc4",
   "metadata": {},
   "outputs": [
    {
     "name": "stdout",
     "output_type": "stream",
     "text": [
      "Несмещенная Смещенная\n"
     ]
    },
    {
     "data": {
      "text/plain": [
       "(9157.84, 10175.377777777776)"
      ]
     },
     "execution_count": 3,
     "metadata": {},
     "output_type": "execute_result"
    }
   ],
   "source": [
    "cov = np.cov(zp, ks, ddof=0)\n",
    "cov_s = np.cov(zp, ks)\n",
    "print(\"Несмещенная Смещенная\")\n",
    "cov[1, 0], cov_s[1, 0]"
   ]
  },
  {
   "attachments": {},
   "cell_type": "markdown",
   "id": "6ff7c843",
   "metadata": {},
   "source": [
    "2) Найдите коэффициент корреляции \n",
    "\n",
    "а. Без использования специальных функций"
   ]
  },
  {
   "cell_type": "code",
   "execution_count": 4,
   "id": "a9b33c5b",
   "metadata": {},
   "outputs": [
    {
     "data": {
      "text/plain": [
       "0.8874900920739158"
      ]
     },
     "execution_count": 4,
     "metadata": {},
     "output_type": "execute_result"
    }
   ],
   "source": [
    "corr = cov_r / (zp.std() * ks.std())\n",
    "corr"
   ]
  },
  {
   "attachments": {},
   "cell_type": "markdown",
   "id": "ae9e3c15",
   "metadata": {},
   "source": [
    "б. с помощью специальных функций из библиотек numpy и pandas"
   ]
  },
  {
   "cell_type": "code",
   "execution_count": 5,
   "id": "aae153a5",
   "metadata": {},
   "outputs": [
    {
     "data": {
      "text/html": [
       "<div>\n",
       "<style scoped>\n",
       "    .dataframe tbody tr th:only-of-type {\n",
       "        vertical-align: middle;\n",
       "    }\n",
       "\n",
       "    .dataframe tbody tr th {\n",
       "        vertical-align: top;\n",
       "    }\n",
       "\n",
       "    .dataframe thead th {\n",
       "        text-align: right;\n",
       "    }\n",
       "</style>\n",
       "<table border=\"1\" class=\"dataframe\">\n",
       "  <thead>\n",
       "    <tr style=\"text-align: right;\">\n",
       "      <th></th>\n",
       "      <th>Salary</th>\n",
       "      <th>Scoring</th>\n",
       "    </tr>\n",
       "  </thead>\n",
       "  <tbody>\n",
       "    <tr>\n",
       "      <th>Salary</th>\n",
       "      <td>1.00000</td>\n",
       "      <td>0.88749</td>\n",
       "    </tr>\n",
       "    <tr>\n",
       "      <th>Scoring</th>\n",
       "      <td>0.88749</td>\n",
       "      <td>1.00000</td>\n",
       "    </tr>\n",
       "  </tbody>\n",
       "</table>\n",
       "</div>"
      ],
      "text/plain": [
       "          Salary  Scoring\n",
       "Salary   1.00000  0.88749\n",
       "Scoring  0.88749  1.00000"
      ]
     },
     "execution_count": 5,
     "metadata": {},
     "output_type": "execute_result"
    }
   ],
   "source": [
    "df = pd.DataFrame({'Salary': zp, 'Scoring': ks})\n",
    "df[['Salary', 'Scoring']].corr()\n"
   ]
  },
  {
   "cell_type": "code",
   "execution_count": 6,
   "id": "70018843",
   "metadata": {},
   "outputs": [
    {
     "data": {
      "text/plain": [
       "0.8874900920739162"
      ]
     },
     "execution_count": 6,
     "metadata": {},
     "output_type": "execute_result"
    }
   ],
   "source": [
    "np.corrcoef(zp, ks)[1, 0]"
   ]
  },
  {
   "cell_type": "markdown",
   "id": "a2cd7836",
   "metadata": {},
   "source": [
    "## Задача 2\n",
    "\n",
    "> Измерены значения IQ выборки студентов, обучающихся в местных технических вузах:  \n",
    "> 131, 125, 115, 122, 131, 115, 107, 99, 125, 111  \n",
    "> Известно, что в генеральной совокупности IQ распределен нормально.  \n",
    ">- Найдите доверительный интервал для математического ожидания с надежностью 0.95."
   ]
  },
  {
   "cell_type": "markdown",
   "id": "8b9932f0",
   "metadata": {},
   "source": [
    "Решение:"
   ]
  },
  {
   "cell_type": "code",
   "execution_count": 7,
   "id": "8195354c",
   "metadata": {},
   "outputs": [],
   "source": [
    "samples = np.array([131, 125, 115, 122, 131, 115, 107, 99, 125, 111])"
   ]
  },
  {
   "cell_type": "code",
   "execution_count": 8,
   "id": "beefc636",
   "metadata": {},
   "outputs": [
    {
     "name": "stdout",
     "output_type": "stream",
     "text": [
      "n = 10,среднее = 118.1, оценка среднего квадратического отклонения  = 10.54566788359614\n"
     ]
    }
   ],
   "source": [
    "n = samples.shape[0]\n",
    "m = samples.mean()\n",
    "s = samples.std(ddof=1)\n",
    "print(f'n = {n},среднее = {m}, оценка среднего квадратического отклонения  = {s}')"
   ]
  },
  {
   "cell_type": "code",
   "execution_count": 9,
   "id": "c96e7fca",
   "metadata": {},
   "outputs": [
    {
     "data": {
      "text/plain": [
       "2.2621571627409915"
      ]
     },
     "execution_count": 9,
     "metadata": {},
     "output_type": "execute_result"
    }
   ],
   "source": [
    "t = stats.t.ppf(0.975, 9)\n",
    "t"
   ]
  },
  {
   "cell_type": "markdown",
   "id": "8ac642f6",
   "metadata": {},
   "source": [
    "Таким образом находим доверительный интервал для оценки истинного (генерального) значения:"
   ]
  },
  {
   "cell_type": "code",
   "execution_count": 10,
   "id": "91d65d65",
   "metadata": {},
   "outputs": [
    {
     "name": "stdout",
     "output_type": "stream",
     "text": [
      "110.55608365158724 125.64391634841274\n"
     ]
    },
    {
     "data": {
      "text/plain": [
       "(110.55608365158724, 125.64391634841274)"
      ]
     },
     "execution_count": 10,
     "metadata": {},
     "output_type": "execute_result"
    }
   ],
   "source": [
    "print(m - t * s / np.sqrt(n),  m + t * s / np.sqrt(n))\n",
    "stats.t.interval(0.95 , df=len(samples)-1, loc=np.mean(samples), scale=stats.sem(samples))"
   ]
  },
  {
   "attachments": {},
   "cell_type": "markdown",
   "id": "609a8fff",
   "metadata": {},
   "source": [
    "Доверительный интервал:  \n",
    "$\\color{blue}(110.556; 125.644)$"
   ]
  },
  {
   "attachments": {},
   "cell_type": "markdown",
   "id": "1b05faba",
   "metadata": {},
   "source": [
    "## Задача 3.\n",
    "\n",
    "> Известно, что рост футболистов в сборной распределен нормально с известной дисперсией 25. На выборке объёма 27 выборочное среднее составило 174.2.  \n",
    ">\n",
    ">- Найдите доверительный интервал для математического ожидания с надежностью 0.95.\n"
   ]
  },
  {
   "attachments": {},
   "cell_type": "markdown",
   "id": "54a9db67",
   "metadata": {},
   "source": [
    "$\\underline{X}\\pm Z_\\frac{\\alpha}{2}\\cdot\\frac{\\sigma}{\\sqrt{n}}$\n",
    "\n",
    "$Z_\\frac{\\alpha}{2}=1.96$\n",
    "\n",
    "$174.2\\pm 1.96\\cdot\\frac{5}{\\sqrt{27}}$\n"
   ]
  },
  {
   "cell_type": "code",
   "execution_count": 11,
   "id": "8babe57f",
   "metadata": {},
   "outputs": [
    {
     "name": "stdout",
     "output_type": "stream",
     "text": [
      "172.31398912064722 176.08601087935276\n"
     ]
    }
   ],
   "source": [
    "n = 27\n",
    "m = 174.2\n",
    "s = 5\n",
    "z = 1.96\n",
    "print(m - z * s / np.sqrt(n), m + z * s / np.sqrt(n))"
   ]
  },
  {
   "attachments": {},
   "cell_type": "markdown",
   "id": "bb823dc4",
   "metadata": {},
   "source": [
    "$Ответ: \\color{blue}[172.314;176.086]$"
   ]
  }
 ],
 "metadata": {
  "kernelspec": {
   "display_name": "Python 3",
   "language": "python",
   "name": "python3"
  },
  "language_info": {
   "codemirror_mode": {
    "name": "ipython",
    "version": 3
   },
   "file_extension": ".py",
   "mimetype": "text/x-python",
   "name": "python",
   "nbconvert_exporter": "python",
   "pygments_lexer": "ipython3",
   "version": "3.11.1"
  },
  "vscode": {
   "interpreter": {
    "hash": "544efe9c901d221eaa4c7a5862801d7529b5b8bf4dfb1b417d3883841281e383"
   }
  }
 },
 "nbformat": 4,
 "nbformat_minor": 5
}
