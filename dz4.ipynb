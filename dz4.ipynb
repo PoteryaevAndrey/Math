{
 "cells": [
  {
   "cell_type": "code",
   "execution_count": 1,
   "metadata": {},
   "outputs": [],
   "source": [
    "from math import sqrt"
   ]
  },
  {
   "attachments": {},
   "cell_type": "markdown",
   "metadata": {},
   "source": [
    "# Домашнее задание 4\n",
    "\n",
    "\n",
    "## Задача 1\n",
    "> Случайная непрерывная величина A имеет равномерное распределение на промежутке (200, 800]. \n",
    "> Найдите ее среднее значение и дисперсию."
   ]
  },
  {
   "cell_type": "markdown",
   "metadata": {},
   "source": [
    "$M(X) = \\frac{a + b}{2} =$"
   ]
  },
  {
   "cell_type": "code",
   "execution_count": 2,
   "metadata": {},
   "outputs": [
    {
     "data": {
      "text/plain": [
       "500.0"
      ]
     },
     "execution_count": 2,
     "metadata": {},
     "output_type": "execute_result"
    }
   ],
   "source": [
    "MX = (200 + 800) / 2\n",
    "MX"
   ]
  },
  {
   "cell_type": "markdown",
   "metadata": {},
   "source": [
    "$D(X) = \\frac{(b - a)^2}{12} =$"
   ]
  },
  {
   "cell_type": "code",
   "execution_count": 3,
   "metadata": {},
   "outputs": [
    {
     "data": {
      "text/plain": [
       "30000.0"
      ]
     },
     "execution_count": 3,
     "metadata": {},
     "output_type": "execute_result"
    }
   ],
   "source": [
    "DX = (800 - 200) ** 2 / 12\n",
    "DX"
   ]
  },
  {
   "attachments": {},
   "cell_type": "markdown",
   "metadata": {},
   "source": [
    "## Задача 2\n",
    "> О случайной непрерывной равномерно распределенной величине B известно, что ее дисперсия равна 0.2.\n",
    "> Можно ли найти правую границу величины B и ее среднее значение зная, что левая граница равна 0.5?\n",
    "> Если да, найдите ее.\n",
    "\n",
    "$D = \\frac{(b - a)^2}{12}$ \n",
    " \n",
    "\n",
    "$b=a+\\sqrt{12D(X)}$  \n",
    "\n",
    "$D=0.2$  \n",
    "\n",
    "$a=0.5$\n",
    "\n",
    "$b=$\n"
   ]
  },
  {
   "cell_type": "code",
   "execution_count": 4,
   "metadata": {},
   "outputs": [
    {
     "data": {
      "text/plain": [
       "2.049193338482967"
      ]
     },
     "execution_count": 4,
     "metadata": {},
     "output_type": "execute_result"
    }
   ],
   "source": [
    "a = 0.5 \n",
    "b = a + sqrt(12 * 0.2)\n",
    "b"
   ]
  },
  {
   "attachments": {},
   "cell_type": "markdown",
   "metadata": {},
   "source": [
    "$M(X) = \\frac{a + b}{2}$"
   ]
  },
  {
   "cell_type": "code",
   "execution_count": 5,
   "metadata": {},
   "outputs": [
    {
     "data": {
      "text/plain": [
       "1.2745966692414834"
      ]
     },
     "execution_count": 5,
     "metadata": {},
     "output_type": "execute_result"
    }
   ],
   "source": [
    "M = (a + b) / 2\n",
    "M"
   ]
  },
  {
   "attachments": {},
   "cell_type": "markdown",
   "metadata": {},
   "source": [
    "## Задача 3\n",
    "\n",
    "> Непрерывная случайная величина C распределена нормально и задана плотностью распределения\n",
    ">\n",
    "> $f(x)=\\frac{1}{4 \\sqrt{2\\pi}} e^{-\\frac{(x+2)^2}{32}}$\n",
    ">\n",
    "> Найдите:"
   ]
  },
  {
   "attachments": {},
   "cell_type": "markdown",
   "metadata": {},
   "source": [
    "### a)  M(X)\n",
    "\n",
    " В общем виде плотность нормального распределения имеет вид: $f(x) = \\frac{1}{\\sigma \\sqrt{2 \\pi}} e ^ {- \\frac{(x - a)^2}{2 \\sigma^2}},$\n",
    " \n",
    " где $a = M(X)$,\n",
    " \n",
    " следовательно: $M(X)=-2$\n",
    "\n",
    "### b)D(X)\n",
    "\n",
    "$D(X)=\\frac{32}{2}=16$\n",
    "\n",
    "### c) среднее квадратичное отклонение\n",
    "\n",
    "$\\sigma=\\sqrt{D(X)}=\\sqrt{16}=4$\n",
    "\n"
   ]
  },
  {
   "attachments": {},
   "cell_type": "markdown",
   "metadata": {},
   "source": [
    "## Задача 4\n",
    "> Рост взрослого населения города X имеет нормальное распределение. Причем, средний рост равен 174 см, а среднее квадратичное отклонение равно 8 см.\n",
    "> Какова вероятность того, что случайным образом выбранный взрослый человек имеет рост:\n",
    ">\n",
    ">- больше 182 см?\n",
    ">- больше 190 см?\n",
    ">- от 166 см до 190 см?\n",
    ">- от 166 см до 182 см?\n",
    ">- от 158 см до 190 см?\n",
    ">- не выше 150 см и не ниже 190 см?\n",
    ">- не выше 150 см и не ниже 198 см?\n",
    ">- ниже 166 см?\n",
    "\n",
    "Решение:  \n",
    "Используем\n",
    "формулу для нахождения вероятности попадания нормальной случайной величины в\n",
    "интервал:\n",
    "$$P(\\alpha<X<\\beta) = F_0\\left(\\frac{\\beta- a}{\\sigma}\\right) - F_0\\left(\\frac{\\alpha-a}{\\sigma}\\right)$$\n",
    "где $F_0(x)$ - нормализованая функция( значения берутся из таблицы)."
   ]
  },
  {
   "attachments": {},
   "cell_type": "markdown",
   "metadata": {},
   "source": [
    "### а). больше 182 см\n",
    "\n",
    "$P(182<X<\\infty)$  \n",
    "$P(X=\\infty)= 1$  \n",
    "$P(182<X<\\infty)=1-F_0\\left(\\frac{182 - 174}{8}\\right)=1-F_0(1)=1-0.8413=0.1587$  \n",
    "Ответ: 0.1587"
   ]
  },
  {
   "attachments": {},
   "cell_type": "markdown",
   "metadata": {},
   "source": [
    "### б). больше 190 см\n",
    "\n",
    "$P(190<X<\\infty)$  \n",
    "$P(X=\\infty)= 1$  \n",
    "$P(190<X<\\infty)=1-F_0\\left(\\frac{190 - 174}{8}\\right)=1-F_0(2)=1-0.9772=0.0228$  \n",
    "Ответ: 0.0228"
   ]
  },
  {
   "attachments": {},
   "cell_type": "markdown",
   "metadata": {},
   "source": [
    "### в). от 166 см до 190 см\n",
    "\n",
    "$P(166<X<190) = F_0\\left(\\frac{190-174}{8}\\right) - F_0\\left(\\frac{166-174}{8}\\right)=F_0(2) - F_0(-1)=0.9772-0.1587=0.8185$  \n",
    "Ответ: 0.8185"
   ]
  },
  {
   "attachments": {},
   "cell_type": "markdown",
   "metadata": {},
   "source": [
    "### г). от 166 см до 182 см\n",
    "\n",
    "$P(166<X<182)=F_0\\left(\\frac{182-174}{8}\\right)-F_0\\left(\\frac{166-174}{8}\\right)=F_0(1) - F_0(-1)=0.8413 - 0.1587=0.6826$  \n",
    "Ответ: 0.6826"
   ]
  },
  {
   "attachments": {},
   "cell_type": "markdown",
   "metadata": {},
   "source": [
    "### д). от 158 см до 190 см\n",
    "\n",
    "$P(158<X<190) = F_0\\left(\\frac{190-174}{8}\\right) - F_0\\left(\\frac{158-174}{8}\\right)=F_0(2) - F_0(-2)=0.9772 - 0.0228 = 0.9544$  \n",
    "Ответ: 0.9544"
   ]
  },
  {
   "attachments": {},
   "cell_type": "markdown",
   "metadata": {},
   "source": [
    "### е). не выше 150 см или не ниже 190 см\n",
    "\n",
    "$P(150<X<190) = F_0\\left(\\frac{190-174}{8}\\right)-F_0\\left(\\frac{150-174}{8}\\right)=F_0(2)-F_0(-3)=0.9772-0.0013 = 0.9759$  \n",
    "$1-0.9759  = 0.0241$  \n",
    "Ответ: 0.0241"
   ]
  },
  {
   "attachments": {},
   "cell_type": "markdown",
   "metadata": {},
   "source": [
    "### ё). не выше 150 см или не ниже 198 см\n",
    "\n",
    "$P(150<X<198) = F_0\\left(\\frac{198-174}{8}\\right)-F_0\\left(\\frac{150-174}{8}\\right)=F_0(3)-F_0(-3)=0.9987-0.0013 = 0.9974$  \n",
    "$1-0.9974  = 0.0026$  \n",
    "Ответ: 0.0026"
   ]
  },
  {
   "attachments": {},
   "cell_type": "markdown",
   "metadata": {},
   "source": [
    "### ж). ниже 166 см.\n",
    "\n",
    "$P(0<X<166) = F_0\\left(\\frac{166-174}{8}\\right)=F_0(-1)=0.1587$  \n",
    "Ответ: 0.1587"
   ]
  },
  {
   "attachments": {},
   "cell_type": "markdown",
   "metadata": {},
   "source": [
    "## Задача 5\n",
    "> На сколько сигм (средних квадратичных отклонений) отклоняется рост человека, равный 190 см, от математического ожидания роста в популяции, в которой M(X) = 178 см и D(X) = 25 кв.см?"
   ]
  },
  {
   "cell_type": "code",
   "execution_count": 6,
   "metadata": {},
   "outputs": [
    {
     "data": {
      "text/plain": [
       "2.4"
      ]
     },
     "execution_count": 6,
     "metadata": {},
     "output_type": "execute_result"
    }
   ],
   "source": [
    "(190 - 178) / sqrt(25)"
   ]
  },
  {
   "attachments": {},
   "cell_type": "markdown",
   "metadata": {},
   "source": [
    "Ответ: На $3\\sigma$"
   ]
  }
 ],
 "metadata": {
  "kernelspec": {
   "display_name": "Python 3",
   "language": "python",
   "name": "python3"
  },
  "language_info": {
   "codemirror_mode": {
    "name": "ipython",
    "version": 3
   },
   "file_extension": ".py",
   "mimetype": "text/x-python",
   "name": "python",
   "nbconvert_exporter": "python",
   "pygments_lexer": "ipython3",
   "version": "3.11.1"
  },
  "vscode": {
   "interpreter": {
    "hash": "867b719568835d2758971036323f4589e1a00f73e0a167b563d81825d1a5986e"
   }
  }
 },
 "nbformat": 4,
 "nbformat_minor": 2
}
