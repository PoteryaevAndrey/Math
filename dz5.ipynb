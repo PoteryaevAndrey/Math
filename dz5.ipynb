{
 "cells": [
  {
   "cell_type": "code",
   "execution_count": 2,
   "metadata": {},
   "outputs": [],
   "source": [
    "import numpy as np\n",
    "from scipy import stats"
   ]
  },
  {
   "attachments": {},
   "cell_type": "markdown",
   "metadata": {},
   "source": [
    "# Домашнее задание 5   \n",
    "\n",
    "## Задача 1\n",
    "\n",
    "> Когда используется критерий Стьюдента, а когда Z –критерий?\n",
    "\n",
    "\n",
    "Если у нас условия применимости параметрических тестов соблюдены, то в случае известной сигмы генеральной совокупности более предпочтителен Z- критерий, в противном случае -  критерий Стьюдента t"
   ]
  },
  {
   "attachments": {},
   "cell_type": "markdown",
   "metadata": {},
   "source": [
    "## Задача 2\n",
    "\n",
    "> Проведите тест гипотезы. Утверждается, что шарики для подшипников, изготовленные автоматическим станком, имеют средний диаметр 17 мм. Используя односторонний критерий с $\\alpha$=0.05, проверить эту гипотезу, если в выборке из n=100 шариков средний диаметр оказался равным 17.5 мм, а дисперсия известна и равна 4 мм."
   ]
  },
  {
   "attachments": {},
   "cell_type": "markdown",
   "metadata": {},
   "source": [
    "$H0: \\mu = 17$  \n",
    "\n",
    "$H1: \\mu > 17$  \n",
    "\n",
    "Из условий задачи не совсем понятно. Нам дана дисперсия генеральной совокупности или выборки\n",
    "\n",
    "### а) Если дана дисперсия выборки\n",
    "\n",
    "$D_{выборки} = 4$  \n",
    "\n",
    "$\\sigma = \\sqrt{D_{выборки}}=2$  \n",
    "\n",
    "$Z_{fact}=\\frac{\\overline{X}-\\mu}{\\sigma}$  \n",
    "\n",
    "$Z_{fact} = \\frac{17.5 - 17}{2}=0.25$ \n",
    "\n",
    "$\\alpha =0.05$\n",
    "\n",
    "По таблице находим $Z_{crit}$ для 0.95  \n",
    "\n",
    "$Z_{crit}=1.645$\n",
    "\n",
    "т.к. $Z_{fact}=0.25 < 1.645= Z_{crit}$  \n",
    "\n",
    "Альтернативная гипотеза не принимается  \n",
    "Средний диаметр действительно 17 мм. \n",
    "\n",
    "### б) Если дана дисперсия генеральной совокупности\n",
    "\n",
    "$D_{ген} = 4$  \n",
    "\n",
    "$\\sigma = \\sqrt{D_{ген}}=2$  \n",
    "\n",
    "$Z_{fact}=\\frac{\\overline{X}-\\mu}{\\frac{\\sigma}{\\sqrt{n}}}$  \n",
    "\n",
    "$Z_{fact} = \\frac{17.5 - 17}{2}=2.5$ \n",
    "\n",
    "$\\alpha =0.05$\n",
    "\n",
    "По таблице находим $Z_{crit}$ для 0.95  \n",
    "\n",
    "$Z_{crit}=1.645$\n",
    "\n",
    "т.к. $Z_{fact}=2.5 >1.645= Z_{crit}$  \n",
    "\n",
    "Альтернативная гипотеза принимаеся  \n",
    "Средний диметр больше 17 мм."
   ]
  },
  {
   "attachments": {},
   "cell_type": "markdown",
   "metadata": {},
   "source": [
    "## Задача 3\n",
    "> Продавец утверждает, что средний вес пачки печенья составляет 200 г. Из партии извлечена выборка из 10 пачек Вес каждой пачки составляет: 202, 203, 199, 197, 195, 201, 200, 204, 194, 190.\n",
    "> Известно, что их веса распределены нормально.\n",
    ">\n",
    ">- Верно ли утверждение продавца, если учитывать, что доверительная вероятность равна 99%?"
   ]
  },
  {
   "cell_type": "markdown",
   "metadata": {},
   "source": [
    "$H0: M = 200$\n",
    "\n",
    "$H1: M \\not= 200$\n",
    "\n",
    "$\\sigma =\\frac{1}{n-1}\\sum(X_i-\\overline{X})^2$\n",
    "\n",
    "$t=\\frac{\\overline{X}-\\mu}{\\frac{\\sigma_н}{\\sqrt{n}}}$"
   ]
  },
  {
   "cell_type": "code",
   "execution_count": 3,
   "metadata": {},
   "outputs": [],
   "source": [
    "X = np.array([202, 203, 199, 197, 195, 201, 200, 204, 194, 190])\n",
    "mean_X = X.mean()\n",
    "std_X = X.std(ddof=1)"
   ]
  },
  {
   "cell_type": "code",
   "execution_count": 4,
   "metadata": {},
   "outputs": [
    {
     "data": {
      "text/plain": [
       "-1.0651074037450896"
      ]
     },
     "execution_count": 4,
     "metadata": {},
     "output_type": "execute_result"
    }
   ],
   "source": [
    "t_fact = (mean_X - 200) / std_X * np.sqrt(10)\n",
    "t_fact"
   ]
  },
  {
   "attachments": {},
   "cell_type": "markdown",
   "metadata": {},
   "source": [
    "По таблице критических точек распределения Стьюдента для двухсторонней области найдем критическую точку по\n",
    "уровню значимости α = 0,01 и числу степеней свободы k = 9 \n",
    "\n",
    "$t_{crit}$ = 3.25\n",
    "\n",
    "$t_{fact}$ = -1.065\n",
    "\n",
    "$|t_{fact}|<t_{crit}$\n",
    "\n",
    "$(-3.25<-1.065<3.25)$\n",
    "\n",
    "Ответ: Утверждение продавца верно"
   ]
  },
  {
   "attachments": {},
   "cell_type": "markdown",
   "metadata": {},
   "source": [
    "## Задача 4\n",
    "\n",
    "> Есть ли статистически значимые различия в росте дочерей?  \n",
    "> Рост матерей 172, 177, 158, 170, 178,175, 164, 160, 169, 165  \n",
    "> Рост взрослых дочерей: 173, 175, 162, 174, 175, 168, 155, 170, 160"
   ]
  },
  {
   "cell_type": "code",
   "execution_count": 5,
   "metadata": {},
   "outputs": [
    {
     "data": {
      "text/plain": [
       "TtestResult(statistic=0.08873565094161137, pvalue=0.9314731778513443, df=8)"
      ]
     },
     "execution_count": 5,
     "metadata": {},
     "output_type": "execute_result"
    }
   ],
   "source": [
    "x = np.array([172, 177, 158, 170, 178, 164, 160, 169, 165])\n",
    "y = np.array([173, 175, 162, 174, 175, 168, 155, 170, 160])\n",
    "stats.ttest_rel(x,y)"
   ]
  },
  {
   "attachments": {},
   "cell_type": "markdown",
   "metadata": {},
   "source": [
    "$H0:\\mu_0=\\mu_1$ Различий нет\n",
    "\n",
    "$H1:\\mu_0\\not=\\mu_1$ Различия есть\n",
    "\n",
    "$\\alpha=0.05$\n",
    "\n",
    "$P_{value}>\\alpha$ Альтернатиная гипотеза не принимается\n",
    "\n",
    "Статистически значимых различий в росте дочерей нет"
   ]
  }
 ],
 "metadata": {
  "kernelspec": {
   "display_name": "Python 3",
   "language": "python",
   "name": "python3"
  },
  "language_info": {
   "codemirror_mode": {
    "name": "ipython",
    "version": 3
   },
   "file_extension": ".py",
   "mimetype": "text/x-python",
   "name": "python",
   "nbconvert_exporter": "python",
   "pygments_lexer": "ipython3",
   "version": "3.11.1"
  },
  "vscode": {
   "interpreter": {
    "hash": "867b719568835d2758971036323f4589e1a00f73e0a167b563d81825d1a5986e"
   }
  }
 },
 "nbformat": 4,
 "nbformat_minor": 2
}
