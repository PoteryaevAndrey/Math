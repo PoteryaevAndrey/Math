{
 "cells": [
  {
   "cell_type": "code",
   "execution_count": 15,
   "metadata": {},
   "outputs": [],
   "source": [
    "import numpy as np\n",
    "from scipy import stats"
   ]
  },
  {
   "attachments": {},
   "cell_type": "markdown",
   "metadata": {},
   "source": [
    "# Домашнее задание 6   \n",
    "\n",
    "## Задача 1\n",
    "\n",
    "> Известно, что генеральная совокупность распределена нормально со средним квадратическим отклонением, равным 16.\n",
    "> Найти доверительный интервал для оценки математического ожидания a с надежностью 0.95, если выборочная средняя M = 80, а объем выборки n = 256.  \n",
    "\n",
    "$\\underline{X}\\pm Z_\\frac{\\alpha}{2}\\cdot\\frac{\\sigma}{\\sqrt{n}}$\n",
    "\n",
    "$Z_\\frac{\\alpha}{2}=1.96$\n",
    "\n",
    "$80\\pm 1.96\\cdot\\frac{16}{\\sqrt{256}} => [78.04;81.96]$\n",
    "\n",
    "$Ответ: \\color{blue}[78.04;81.96]$"
   ]
  },
  {
   "attachments": {},
   "cell_type": "markdown",
   "metadata": {},
   "source": [
    "## Задача 2\n",
    "\n",
    "> В результате 10 независимых измерений некоторой величины X, выполненных с одинаковой точностью, получены опытные данные:\n",
    "> 6.9, 6.1, 6.2, 6.8, 7.5, 6.3, 6.4, 6.9, 6.7, 6.1\n",
    ">\n",
    "> Предполагая, что результаты измерений подчинены нормальному закону распределения вероятностей, оценить истинное значение величины X при помощи доверительного интервала, покрывающего это значение с доверительной вероятностью 0,95.  \n",
    "\n",
    "$\\underline{X}\\pm t_\\frac{\\alpha}{2}\\cdot\\frac{\\sigma}{\\sqrt{n}}$"
   ]
  },
  {
   "cell_type": "code",
   "execution_count": 16,
   "metadata": {},
   "outputs": [
    {
     "data": {
      "text/plain": [
       "(6.267515851415713, 6.912484148584288)"
      ]
     },
     "execution_count": 16,
     "metadata": {},
     "output_type": "execute_result"
    }
   ],
   "source": [
    "x = np.array([6.9, 6.1, 6.2, 6.8, 7.5, 6.3, 6.4, 6.9, 6.7, 6.1])\n",
    "M = x.mean()\n",
    "D = x.var(ddof=1)\n",
    "t = stats.t.ppf(0.975, 9)\n",
    "M - t * np.sqrt(D / 10), M + t * np.sqrt(D / 10)"
   ]
  },
  {
   "attachments": {},
   "cell_type": "markdown",
   "metadata": {},
   "source": [
    "$Ответ: \\color{blue}[6.268; 6.912]$"
   ]
  },
  {
   "attachments": {},
   "cell_type": "markdown",
   "metadata": {},
   "source": [
    "## Задача 3\n",
    "> Рост дочерей 175, 167, 154, 174, 178, 148, 160, 167, 169, 170  \n",
    "> Рост матерей  178, 165, 165, 173, 168, 155, 160, 164, 178, 175  \n",
    "> Используя эти данные построить 95% доверительный интервал для разности среднего роста родителей и детей.\n"
   ]
  },
  {
   "attachments": {},
   "cell_type": "markdown",
   "metadata": {},
   "source": [
    "$\\Delta\\pm t_\\frac{\\alpha}{2}\\cdot S_\\Delta$\n",
    "\n",
    "$\\Delta=\\underline{X_1}-\\underline{X_2}$\n",
    "\n",
    "$D_{общ}=\\frac{1}{2}(D_1 + D_2)$\n",
    "\n",
    "$S_\\Delta=\\sqrt{\\frac{D_{общ}}{n_1}+\\frac{D_{общ}}{n_2}}$"
   ]
  },
  {
   "cell_type": "code",
   "execution_count": 17,
   "metadata": {},
   "outputs": [
    {
     "data": {
      "text/plain": [
       "(-10.068418034506857, 6.268418034506846)"
      ]
     },
     "execution_count": 17,
     "metadata": {},
     "output_type": "execute_result"
    }
   ],
   "source": [
    "x = np.array([175, 167, 154, 174, 178, 148, 160, 167, 169, 170])\n",
    "y = np.array([178, 165, 165, 173, 168, 155, 160, 164, 178, 175])\n",
    "delta = x.mean() - y.mean()\n",
    "D = (x.var(ddof=1) + y.var(ddof=1)) / 2\n",
    "Se = np.sqrt(D / len(x) + D / len(y))\n",
    "ns = (len(x) - 1) * 2\n",
    "t = stats.t.ppf(0.975, ns)\n",
    "delta - t * Se, delta + t * Se\n"
   ]
  },
  {
   "attachments": {},
   "cell_type": "markdown",
   "metadata": {},
   "source": [
    "Ответ: Интервал разности роста $\\color{blue}[-10.068 ; 6.268]$"
   ]
  }
 ],
 "metadata": {
  "kernelspec": {
   "display_name": "Python 3",
   "language": "python",
   "name": "python3"
  },
  "language_info": {
   "codemirror_mode": {
    "name": "ipython",
    "version": 3
   },
   "file_extension": ".py",
   "mimetype": "text/x-python",
   "name": "python",
   "nbconvert_exporter": "python",
   "pygments_lexer": "ipython3",
   "version": "3.11.1"
  },
  "vscode": {
   "interpreter": {
    "hash": "867b719568835d2758971036323f4589e1a00f73e0a167b563d81825d1a5986e"
   }
  }
 },
 "nbformat": 4,
 "nbformat_minor": 2
}
