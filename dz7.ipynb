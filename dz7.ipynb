{
 "cells": [
  {
   "cell_type": "code",
   "execution_count": 1,
   "metadata": {},
   "outputs": [],
   "source": [
    "import numpy as np\n",
    "from scipy import stats"
   ]
  },
  {
   "attachments": {},
   "cell_type": "markdown",
   "metadata": {},
   "source": [
    "# Домашнее задание 7   \n",
    "\n",
    "## Задача 1\n",
    "\n",
    "> Даны две  независимые выборки. Не соблюдается условие нормальности  \n",
    "> x  380,420, 290  \n",
    "> y 140,360,200,900  \n",
    "> Сделайте вывод по результатам, полученным с помощью функции\n",
    "\n",
    "$\\color{red}Критерий\\space Манна – Уитни$\n",
    "\n",
    "$H_0:\\mu_0=\\mu_1$  \n",
    "$H_1:\\mu_0\\not=\\mu_1$"
   ]
  },
  {
   "cell_type": "code",
   "execution_count": 2,
   "metadata": {},
   "outputs": [
    {
     "data": {
      "text/plain": [
       "MannwhitneyuResult(statistic=8.0, pvalue=0.6285714285714286)"
      ]
     },
     "execution_count": 2,
     "metadata": {},
     "output_type": "execute_result"
    }
   ],
   "source": [
    "x = np.array([380, 420, 290])\n",
    "y = np.array([140, 360, 200, 900])\n",
    "stats.mannwhitneyu(x, y)"
   ]
  },
  {
   "attachments": {},
   "cell_type": "markdown",
   "metadata": {},
   "source": [
    "$\\color{blue}Ответ:$ p-value = 0.628, что дает нам право сделать выбор в пользу нулевой гипотезы, т.к. даже при α=0.1 p-value > α."
   ]
  },
  {
   "attachments": {},
   "cell_type": "markdown",
   "metadata": {},
   "source": [
    "## Задача 2\n",
    "\n",
    "> Исследовалось влияние препарата на уровень давления пациентов. Сначала измерялось давление до приема препарата, потом через 10 минут и через 30 минут. Есть ли статистически значимые различия?  \n",
    "> 1е измерение до приема препарата: 150, 160, 165, 145, 155  \n",
    "> 2е измерение через 10 минут: 140, 155, 150,  130, 135  \n",
    "> 3е измерение через 30 минут: 130, 130, 120, 130, 125  \n",
    "\n",
    "$\\color{red}Критерия\\space Фридмана$\n",
    "\n",
    "$H_0:\\mu_0=\\mu_1$  \n",
    "$H_1:\\mu_0\\not=\\mu_1$  \n",
    "$\\alpha=0.05$"
   ]
  },
  {
   "cell_type": "code",
   "execution_count": 3,
   "metadata": {},
   "outputs": [
    {
     "data": {
      "text/plain": [
       "FriedmanchisquareResult(statistic=9.578947368421062, pvalue=0.00831683351100441)"
      ]
     },
     "execution_count": 3,
     "metadata": {},
     "output_type": "execute_result"
    }
   ],
   "source": [
    "a = ([150, 160, 165, 145, 155])\n",
    "b = ([140, 155, 150, 130, 135])\n",
    "c = ([130, 130, 120, 130, 125])\n",
    "\n",
    "stats.friedmanchisquare(a, b, c)"
   ]
  },
  {
   "attachments": {},
   "cell_type": "markdown",
   "metadata": {},
   "source": [
    "$\\color{blue}Ответ:$ pvalue = 0.008 < $\\alpha = 0.05$ Статистические различия есть"
   ]
  },
  {
   "attachments": {},
   "cell_type": "markdown",
   "metadata": {},
   "source": [
    "## Задача 3\n",
    "\n",
    "> Сравните 1 и 2 е измерения, предполагая, что 3го измерения через 30 минут не было.  \n",
    "\n",
    "$\\color{red}Критерий\\space Уилкоксона  $\n",
    "\n",
    "$H_0:\\mu_0=\\mu_1$  \n",
    "$H_1:\\mu_0\\not=\\mu_1$  \n",
    "$\\alpha=0.05$"
   ]
  },
  {
   "cell_type": "code",
   "execution_count": 4,
   "metadata": {},
   "outputs": [
    {
     "data": {
      "text/plain": [
       "WilcoxonResult(statistic=0.0, pvalue=0.0625)"
      ]
     },
     "execution_count": 4,
     "metadata": {},
     "output_type": "execute_result"
    }
   ],
   "source": [
    "stats.wilcoxon(a, b)"
   ]
  },
  {
   "attachments": {},
   "cell_type": "markdown",
   "metadata": {},
   "source": [
    "$\\color{blue}Ответ:$ pvalue = 0.06 > $\\alpha = 0.05$ Статистических различий нет"
   ]
  },
  {
   "attachments": {},
   "cell_type": "markdown",
   "metadata": {},
   "source": [
    "## Задача 4\n",
    "\n",
    "> Даны 3 группы  учеников плавания.  \n",
    "> В 1 группе время на дистанцию 50 м составляют:  \n",
    "> 56, 60, 62, 55, 71, 67, 59, 58, 64, 67  \n",
    "> Вторая группа : 57, 58, 69, 48, 72, 70, 68, 71, 50, 53  \n",
    "> Третья группа: 57, 67, 49, 48, 47, 55, 66, 51, 54  \n",
    "\n",
    "$\\color{red}Критерий\\space Крускала –Уоллиса  $\n",
    "\n",
    "$H_0:\\mu_0=\\mu_1$  \n",
    "$H_1:\\mu_0\\not=\\mu_1$  \n",
    "$\\alpha=0.05$"
   ]
  },
  {
   "cell_type": "code",
   "execution_count": 5,
   "metadata": {},
   "outputs": [
    {
     "data": {
      "text/plain": [
       "KruskalResult(statistic=5.465564058257224, pvalue=0.06503809985904942)"
      ]
     },
     "execution_count": 5,
     "metadata": {},
     "output_type": "execute_result"
    }
   ],
   "source": [
    "a = ([56, 60, 62, 55, 71, 67, 59, 58, 64, 67])\n",
    "b = ([57, 58, 69, 48, 72, 70, 68, 71, 50, 53])\n",
    "c = ([57, 67, 49, 48, 47, 55, 66, 51, 54])\n",
    "stats.kruskal(a, b, c)"
   ]
  },
  {
   "attachments": {},
   "cell_type": "markdown",
   "metadata": {},
   "source": [
    "$\\color{blue}Ответ:$ pvalue = 0.065 > $\\alpha = 0.05$ Статистических различий нет"
   ]
  },
  {
   "attachments": {},
   "cell_type": "markdown",
   "metadata": {},
   "source": [
    "## Задача 5\n",
    "\n",
    "> Заявляется, что партия изготавливается со средним арифметическим 2,5 см. Проверить данную гипотезу, если известно, что размеры изделий подчинены нормальному закону распределения. Объем выборки 10, уровень статистической значимости 5%  \n",
    "> \n",
    "> 2.51, 2.35, 2.74, 2.56, 2.40, 2.36, 2.65, 2.7, 2.67, 2.34\n",
    "\n",
    "$H0: M = 2.5$\n",
    "\n",
    "$H1: M \\not= 2.5$\n",
    "\n",
    "$\\sigma =\\frac{1}{n-1}\\sum(X_i-\\overline{X})^2$\n",
    "\n",
    "$t=\\frac{\\overline{X}-\\mu}{\\frac{\\sigma_н}{\\sqrt{n}}}$"
   ]
  },
  {
   "cell_type": "code",
   "execution_count": 6,
   "metadata": {},
   "outputs": [
    {
     "data": {
      "text/plain": [
       "0.563061366180296"
      ]
     },
     "execution_count": 6,
     "metadata": {},
     "output_type": "execute_result"
    }
   ],
   "source": [
    "X = np.array([2.51, 2.35, 2.74, 2.56, 2.40, 2.36, 2.65, 2.7, 2.67, 2.34])\n",
    "mean_X = X.mean()\n",
    "std_X = X.std(ddof=1)\n",
    "t_fact = (mean_X - 2.5) / std_X * np.sqrt(10)\n",
    "t_fact"
   ]
  },
  {
   "attachments": {},
   "cell_type": "markdown",
   "metadata": {},
   "source": [
    "По таблице критических точек распределения Стьюдента для двухсторонней области найдем критическую точку по\n",
    "уровню значимости α = 0,05 и числу степеней свободы k = 9 "
   ]
  },
  {
   "cell_type": "code",
   "execution_count": 7,
   "metadata": {},
   "outputs": [
    {
     "data": {
      "text/plain": [
       "2.2621571627409915"
      ]
     },
     "execution_count": 7,
     "metadata": {},
     "output_type": "execute_result"
    }
   ],
   "source": [
    "stats.t.ppf(1 - 0.05 / 2, 9)"
   ]
  },
  {
   "attachments": {},
   "cell_type": "markdown",
   "metadata": {},
   "source": [
    "$t_{crit}$ = 2.26\n",
    "\n",
    "$t_{fact}$ = 0.563\n",
    "\n",
    "$|t_{fact}|<t_{crit}$\n",
    "\n",
    "$\\color{blue}Ответ:$ Партия изготавливается со средним арифметическим 2,5 см."
   ]
  }
 ],
 "metadata": {
  "kernelspec": {
   "display_name": "Python 3",
   "language": "python",
   "name": "python3"
  },
  "language_info": {
   "codemirror_mode": {
    "name": "ipython",
    "version": 3
   },
   "file_extension": ".py",
   "mimetype": "text/x-python",
   "name": "python",
   "nbconvert_exporter": "python",
   "pygments_lexer": "ipython3",
   "version": "3.11.1"
  },
  "vscode": {
   "interpreter": {
    "hash": "544efe9c901d221eaa4c7a5862801d7529b5b8bf4dfb1b417d3883841281e383"
   }
  }
 },
 "nbformat": 4,
 "nbformat_minor": 2
}
