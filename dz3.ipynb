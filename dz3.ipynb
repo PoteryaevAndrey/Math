{
 "cells": [
  {
   "cell_type": "code",
   "execution_count": 111,
   "metadata": {},
   "outputs": [],
   "source": [
    "import pandas as pd\n",
    "from math import factorial as f\n",
    "from math import sqrt\n"
   ]
  },
  {
   "attachments": {},
   "cell_type": "markdown",
   "metadata": {},
   "source": [
    "# Домашнее задание 3  \n",
    "\n",
    "## Задача 1\n",
    "\n",
    "> Даны значения зарплат из выборки выпускников: 100, 80, 75, 77, 89, 33, 45, 25, 65, 17, 30, 24, 57, 55, 70, 75, 65, 84, 90, 150. Посчитать (желательно без использования статистических методов наподобие std, var, mean)\n",
    ">\n",
    ">- среднее арифметическое\n",
    ">- среднее квадратичное отклонение\n",
    ">- смещенную и несмещенную оценки дисперсий для данной выборки."
   ]
  },
  {
   "attachments": {},
   "cell_type": "markdown",
   "metadata": {},
   "source": [
    "### 1. Среднее арифметическое\n",
    "\n",
    "$\\overline{X}=\\frac{1}{m}\\sum\\limits_{i=1}^mx_i$"
   ]
  },
  {
   "cell_type": "code",
   "execution_count": 112,
   "metadata": {},
   "outputs": [
    {
     "data": {
      "text/plain": [
       "65.3"
      ]
     },
     "execution_count": 112,
     "metadata": {},
     "output_type": "execute_result"
    }
   ],
   "source": [
    "data = pd.Series([100, 80, 75, 77, 89, 33, 45, 25, 65, 17, 30, 24, 57, 55, 70, 75, 65, 84, 90, 150])\n",
    "X = data.sum() / data.count()\n",
    "X"
   ]
  },
  {
   "attachments": {},
   "cell_type": "markdown",
   "metadata": {},
   "source": [
    "### 2. Среднее квадратичное отклонение\n",
    "\n",
    "$S=\\sqrt\\frac{\\sum^n_{i=1}(x_i-\\overline{x})^2}{n-1}$"
   ]
  },
  {
   "cell_type": "code",
   "execution_count": 113,
   "metadata": {},
   "outputs": [
    {
     "data": {
      "text/plain": [
       "30.807628925316536"
      ]
     },
     "execution_count": 113,
     "metadata": {},
     "output_type": "execute_result"
    }
   ],
   "source": [
    "S = sqrt(((data - X) ** 2).sum() / data.count() - 1)\n",
    "S"
   ]
  },
  {
   "attachments": {},
   "cell_type": "markdown",
   "metadata": {},
   "source": [
    "### 3. Смещенная дисперсия\n",
    "\n",
    "$\\sigma^2=\\frac{\\sum^m_{i=1}(x_i-\\overline{x})^2}{m}$"
   ]
  },
  {
   "cell_type": "code",
   "execution_count": 114,
   "metadata": {},
   "outputs": [
    {
     "data": {
      "text/plain": [
       "950.11"
      ]
     },
     "execution_count": 114,
     "metadata": {},
     "output_type": "execute_result"
    }
   ],
   "source": [
    "D1 = ((data - X) ** 2).sum() / data.count()\n",
    "D1"
   ]
  },
  {
   "attachments": {},
   "cell_type": "markdown",
   "metadata": {},
   "source": [
    "### 4. Несмещенная дисперсия\n",
    "\n",
    "$S^2=\\frac{\\sum^n_{i=1}(x_i-\\overline{x})^2}{n-1}$"
   ]
  },
  {
   "cell_type": "code",
   "execution_count": 115,
   "metadata": {},
   "outputs": [
    {
     "data": {
      "text/plain": [
       "1000.1157894736842"
      ]
     },
     "execution_count": 115,
     "metadata": {},
     "output_type": "execute_result"
    }
   ],
   "source": [
    "D2 = ((data - X) ** 2).sum() / (data.count() - 1)\n",
    "D2"
   ]
  },
  {
   "attachments": {},
   "cell_type": "markdown",
   "metadata": {},
   "source": [
    "## Задача 2\n",
    "> В первом ящике находится 8 мячей, из которых 5 - белые. Во втором ящике - 12 мячей, из которых 5 белых. Из первого ящика вытаскивают случайным образом два мяча, из второго - 4.\n",
    ">- Какова вероятность того, что 3 мяча белые?"
   ]
  },
  {
   "attachments": {},
   "cell_type": "markdown",
   "metadata": {},
   "source": [
    "Благоприятные исходы\n",
    "\n",
    "|Первая корзина|Вторая Корзина|\n",
    "|:---:|:---:|\n",
    "| 2 Белых | 1 Белый 3 Других |\n",
    "| 1 Белый 1 Другой | 2 Белых 2 Других|\n",
    "| 2 Других| 3 Белых 1 Другой|\n",
    "\n",
    "$P(A) = \\frac{C_5^2}{C_8^2}\\cdot\\frac{C_5^1C_7^3}{C_{12}^4}+\\frac{C_5^1C_3^1}{C_8^2}\\cdot\\frac{C_5^2C_7^2}{C_{12}^4}+\\frac{C_3^2}{C_8^2}\\cdot\\frac{C_5^3C_7^1}{C_{12}^4}$\n"
   ]
  },
  {
   "cell_type": "code",
   "execution_count": 116,
   "metadata": {},
   "outputs": [
    {
     "data": {
      "text/plain": [
       "0.3686868686868687"
      ]
     },
     "execution_count": 116,
     "metadata": {},
     "output_type": "execute_result"
    }
   ],
   "source": [
    "PA11 = (f(5) / (f(2) * f(5 - 2))) / (f(8) / (f(2) * f(8 - 2)))\n",
    "PA12 = (f(5) / (f(1) * f(5 - 1))) * (f(7) / (f(3) * f(7 - 3))) / (f(12) / (f(4) * f(12 - 4)))\n",
    "PA21 = (f(5) / (f(1) * f(5 - 1))) * (f(3) / (f(1) * f(3 - 1))) / (f(8) / (f(2) * f(8 - 2)))\n",
    "PА22 = (f(5) / (f(2) * f(5 - 2))) * (f(7) / (f(2) * f(7 - 2))) / (f(12) / (f(4) * f(12 - 4)))\n",
    "PA31 = (f(3) / (f(2) * f(3 - 2))) / (f(8) / (f(2) * f(8 - 2)))\n",
    "PA32 = (f(5) / (f(3) * f(5 - 3))) * (f(7) / (f(1) * f(7 - 1))) / (f(12) / (f(4) * f(12 - 4)))\n",
    "PA = PA11 * PA12 + PA21 * PА22 + PA31 * PA32\n",
    "PA"
   ]
  },
  {
   "attachments": {},
   "cell_type": "markdown",
   "metadata": {},
   "source": [
    "## Задача 3\n",
    "> На соревновании по биатлону один из трех спортсменов стреляет и попадает в мишень. Вероятность попадания для первого спортсмена равна 0.9, для второго — 0.8, для третьего — 0.6. Найти вероятность того, что выстрел произведен:\n",
    ">- a). первым спортсменом\n",
    ">- б). вторым спортсменом\n",
    ">- в). третьим спортсменом.\n",
    "\n",
    "Формула Байенса\n",
    "\n",
    "$P(B_i|A)=\\frac{P(A|B_i)*P(B_i)}{\\sum\\limits_{i=1}^NP(A|B_i)P(B_i)}$\n",
    "\n",
    "A - мишень поражена\n",
    "\n",
    "$P(B_1)=P(B_2)=P(B_3)=\\frac{1}{3}$  \n",
    "$P(A|B_1)=0.9$  \n",
    "$P(A|B_2)=0.8$  \n",
    "$P(A|B_3)=0.6$\n",
    "\n",
    "По формуле полной вероятности\n",
    "\n",
    "$P(A) = P(B_1)P(A|B_1)+P(B_2)P(A|B_2)+P(B_3)P(A|B_3)$ \n",
    " \n",
    " "
   ]
  },
  {
   "cell_type": "code",
   "execution_count": 117,
   "metadata": {},
   "outputs": [
    {
     "data": {
      "text/plain": [
       "0.7666666666666666"
      ]
     },
     "execution_count": 117,
     "metadata": {},
     "output_type": "execute_result"
    }
   ],
   "source": [
    "PA = 1 / 3 * 0.9 + 1 / 3 * 0.8 + 1 / 3 * 0.6\n",
    "PA"
   ]
  },
  {
   "cell_type": "markdown",
   "metadata": {},
   "source": [
    "### a). Выстрел произведен первым спортсменом\n",
    "\n",
    "$P(B_1|A)=\\frac{P(A|B_1)*P(B_1)}{P(A)}$"
   ]
  },
  {
   "cell_type": "code",
   "execution_count": 118,
   "metadata": {},
   "outputs": [
    {
     "data": {
      "text/plain": [
       "0.391304347826087"
      ]
     },
     "execution_count": 118,
     "metadata": {},
     "output_type": "execute_result"
    }
   ],
   "source": [
    "PA1 = 1 / 3 * 0.9 / PA\n",
    "PA1"
   ]
  },
  {
   "attachments": {},
   "cell_type": "markdown",
   "metadata": {},
   "source": [
    "### б). Выстрел произведен вторым спортсменом\n",
    "\n",
    "$P(B_2|A)=\\frac{P(A|B_2)*P(B_2)}{P(A)}$"
   ]
  },
  {
   "cell_type": "code",
   "execution_count": 119,
   "metadata": {},
   "outputs": [
    {
     "data": {
      "text/plain": [
       "0.3478260869565218"
      ]
     },
     "execution_count": 119,
     "metadata": {},
     "output_type": "execute_result"
    }
   ],
   "source": [
    "PA2 = 1 / 3 * 0.8 / PA\n",
    "PA2"
   ]
  },
  {
   "attachments": {},
   "cell_type": "markdown",
   "metadata": {},
   "source": [
    "### в). Выстрел произведен третьим спортсменом\n",
    "\n",
    "$P(B_2|A)=\\frac{P(A|B_2)*P(B_2)}{P(A)}$"
   ]
  },
  {
   "cell_type": "code",
   "execution_count": 120,
   "metadata": {},
   "outputs": [
    {
     "data": {
      "text/plain": [
       "0.2608695652173913"
      ]
     },
     "execution_count": 120,
     "metadata": {},
     "output_type": "execute_result"
    }
   ],
   "source": [
    "PA3 = 1 / 3 * 0.6 / PA\n",
    "PA3"
   ]
  },
  {
   "attachments": {},
   "cell_type": "markdown",
   "metadata": {},
   "source": [
    "## Задача 4\n",
    "> В университет на факультеты A и B поступило равное количество студентов, а на факультет C студентов поступило столько же, сколько на A и B вместе. Вероятность того, что студент факультета A сдаст первую сессию, равна 0.8. Для студента факультета B эта вероятность равна 0.7, а для студента факультета C - 0.9. Студент сдал первую сессию. Какова вероятность, что он учится:\n",
    ">- a). на факультете A \n",
    ">- б). на факультете B\n",
    ">- в). на факультете C?\n",
    "\n",
    "A - сессия сдана\n",
    "\n",
    "$P(B_1)=P(B_2)=\\frac{1}{4}$  \n",
    "$P(B_3)=\\frac{2}{4}$  \n",
    "$P(A|B_1)=0.6$  \n",
    "$P(A|B_2)=0.7$  \n",
    "$P(A|B_3)=0.9$\n",
    "\n",
    "По формуле полной вероятности\n",
    "\n",
    "$P(A) = P(B_1)P(A|B_1)+P(B_2)P(A|B_2)+P(B_3)P(A|B_3)$ "
   ]
  },
  {
   "cell_type": "code",
   "execution_count": 121,
   "metadata": {},
   "outputs": [
    {
     "data": {
      "text/plain": [
       "0.825"
      ]
     },
     "execution_count": 121,
     "metadata": {},
     "output_type": "execute_result"
    }
   ],
   "source": [
    "PA = 1 / 4 * 0.8 + 1 / 4 * 0.7 + 2 / 4 * 0.9\n",
    "PA"
   ]
  },
  {
   "attachments": {},
   "cell_type": "markdown",
   "metadata": {},
   "source": [
    "a). Студент учится на факультете A"
   ]
  },
  {
   "cell_type": "code",
   "execution_count": 122,
   "metadata": {},
   "outputs": [
    {
     "data": {
      "text/plain": [
       "0.24242424242424246"
      ]
     },
     "execution_count": 122,
     "metadata": {},
     "output_type": "execute_result"
    }
   ],
   "source": [
    "PA1 = 1 / 4 * 0.8 / PA\n",
    "PA1"
   ]
  },
  {
   "attachments": {},
   "cell_type": "markdown",
   "metadata": {},
   "source": [
    "б). Студент учится на факультете B"
   ]
  },
  {
   "cell_type": "code",
   "execution_count": 123,
   "metadata": {},
   "outputs": [
    {
     "data": {
      "text/plain": [
       "0.21212121212121213"
      ]
     },
     "execution_count": 123,
     "metadata": {},
     "output_type": "execute_result"
    }
   ],
   "source": [
    "PA2 = 1 / 4 * 0.7 / PA\n",
    "PA2"
   ]
  },
  {
   "attachments": {},
   "cell_type": "markdown",
   "metadata": {},
   "source": [
    "в). Студент учится на факультете C"
   ]
  },
  {
   "cell_type": "code",
   "execution_count": 124,
   "metadata": {},
   "outputs": [
    {
     "data": {
      "text/plain": [
       "0.5454545454545455"
      ]
     },
     "execution_count": 124,
     "metadata": {},
     "output_type": "execute_result"
    }
   ],
   "source": [
    "PA3 = 2 / 4 * 0.9 / PA\n",
    "PA3"
   ]
  },
  {
   "attachments": {},
   "cell_type": "markdown",
   "metadata": {},
   "source": [
    "## Задача 5\n",
    "> Устройство состоит из трех деталей. Для первой детали вероятность выйти из строя в первый месяц равна 0.1, для второй - 0.2, для третьей - 0.25. Какова вероятность того, что в первый месяц выйдут из строя:\n",
    ">- а). все детали\n",
    ">- б). только две детали \n",
    ">- в). хотя бы одна деталь\n",
    ">- г). от одной до двух деталей?"
   ]
  },
  {
   "attachments": {},
   "cell_type": "markdown",
   "metadata": {},
   "source": [
    "### а). Из строя вышли все детали\n",
    "\n",
    "А - из строя вышли все детали"
   ]
  },
  {
   "cell_type": "code",
   "execution_count": 125,
   "metadata": {},
   "outputs": [
    {
     "data": {
      "text/plain": [
       "0.005000000000000001"
      ]
     },
     "execution_count": 125,
     "metadata": {},
     "output_type": "execute_result"
    }
   ],
   "source": [
    "PA = 0.1 * 0.2 * 0.25\n",
    "PA"
   ]
  },
  {
   "attachments": {},
   "cell_type": "markdown",
   "metadata": {},
   "source": [
    "### б). Из строя вышли только 2 детали\n",
    "\n",
    "B1 - из строя вышли первая и вторая деталь, но не вышла третья\n",
    "\n",
    "B2 - из строя вышла первая и третья деталь, но не вышла вторая\n",
    "\n",
    "B3 - из строя вышла вторая и третья деталь, но не вышла первая\n",
    "\n",
    "В = B1 + B2 + B3 -  из строя вышло только две детали"
   ]
  },
  {
   "cell_type": "code",
   "execution_count": 126,
   "metadata": {},
   "outputs": [
    {
     "data": {
      "text/plain": [
       "0.08000000000000002"
      ]
     },
     "execution_count": 126,
     "metadata": {},
     "output_type": "execute_result"
    }
   ],
   "source": [
    "PB = 0.1 * 0.2 * 0.75 + 0.1 * 0.8 * 0.25 + 0.9 * 0.2 * 0.25\n",
    "PB"
   ]
  },
  {
   "attachments": {},
   "cell_type": "markdown",
   "metadata": {},
   "source": [
    "### в). Из строя вышла хотя бы одна деталь\n",
    "\n",
    "C - из строя вышла хотя бы одна деталь"
   ]
  },
  {
   "cell_type": "code",
   "execution_count": 127,
   "metadata": {},
   "outputs": [
    {
     "data": {
      "text/plain": [
       "0.45999999999999996"
      ]
     },
     "execution_count": 127,
     "metadata": {},
     "output_type": "execute_result"
    }
   ],
   "source": [
    "PC = 1 - 0.9 * 0.8 * 0.75\n",
    "PC"
   ]
  },
  {
   "attachments": {},
   "cell_type": "markdown",
   "metadata": {},
   "source": [
    "### г). Из строя вышло от одной до двух деталей\n",
    "\n",
    "D1 - из строя вышла первая деталь\n",
    "\n",
    "D2 - из строя вышла вторая деталь\n",
    "\n",
    "D3 - из строя вышла третья деталь\n",
    "\n",
    "D - из строя вышла одна деталь\n",
    "\n",
    "Е = В + D - из строя вышло от одной до двух деталей"
   ]
  },
  {
   "cell_type": "code",
   "execution_count": 128,
   "metadata": {},
   "outputs": [
    {
     "data": {
      "text/plain": [
       "0.08"
      ]
     },
     "execution_count": 128,
     "metadata": {},
     "output_type": "execute_result"
    }
   ],
   "source": [
    "PD = 0.9 * 0.2 * 0.25 + 0.1 * 0.8 * 0.25 + 0.1 * 0.2 * 0.75\n",
    "PD"
   ]
  },
  {
   "cell_type": "code",
   "execution_count": 129,
   "metadata": {},
   "outputs": [
    {
     "data": {
      "text/plain": [
       "0.16000000000000003"
      ]
     },
     "execution_count": 129,
     "metadata": {},
     "output_type": "execute_result"
    }
   ],
   "source": [
    "PE = PB + PD\n",
    "PE"
   ]
  }
 ],
 "metadata": {
  "kernelspec": {
   "display_name": "Python 3",
   "language": "python",
   "name": "python3"
  },
  "language_info": {
   "codemirror_mode": {
    "name": "ipython",
    "version": 3
   },
   "file_extension": ".py",
   "mimetype": "text/x-python",
   "name": "python",
   "nbconvert_exporter": "python",
   "pygments_lexer": "ipython3",
   "version": "3.11.1"
  },
  "vscode": {
   "interpreter": {
    "hash": "544efe9c901d221eaa4c7a5862801d7529b5b8bf4dfb1b417d3883841281e383"
   }
  }
 },
 "nbformat": 4,
 "nbformat_minor": 2
}
