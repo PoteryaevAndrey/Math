{
 "cells": [
  {
   "cell_type": "code",
   "execution_count": 233,
   "metadata": {},
   "outputs": [],
   "source": [
    "import numpy as np\n",
    "import matplotlib.pyplot as plt\n",
    "import sympy as sym\n",
    "from sklearn.linear_model import LinearRegression"
   ]
  },
  {
   "attachments": {},
   "cell_type": "markdown",
   "metadata": {},
   "source": [
    "# Домашнее задание 9   \n",
    "> Даны значения величины заработной платы заемщиков банка (zp) и значения их поведенческого кредитного скоринга (ks):  \n",
    "> zp = [35, 45, 190, 200, 40, 70, 54, 150, 120, 110]  \n",
    "> ks = [401, 574, 874, 919, 459, 739, 653, 902, 746, 832]. "
   ]
  },
  {
   "cell_type": "code",
   "execution_count": 234,
   "metadata": {},
   "outputs": [],
   "source": [
    "zp = np.array([35, 45, 190, 200, 40, 70, 54, 150, 120, 110])\n",
    "ks = np.array([401, 574, 874, 919, 459, 739, 653, 902, 746, 832])"
   ]
  },
  {
   "attachments": {},
   "cell_type": "markdown",
   "metadata": {},
   "source": [
    "## Задача 1\n",
    "\n",
    "> Используя математические операции, посчитать коэффициенты линейной регрессии, приняв за X заработную плату (то есть, zp - признак), а за y - значения скорингового балла (то есть, ks - целевая переменная). Произвести расчет как с использованием intercept, так и без."
   ]
  },
  {
   "attachments": {},
   "cell_type": "markdown",
   "metadata": {},
   "source": [
    "1. По формулам"
   ]
  },
  {
   "cell_type": "code",
   "execution_count": 235,
   "metadata": {},
   "outputs": [
    {
     "data": {
      "text/plain": [
       "2.620538882402765"
      ]
     },
     "execution_count": 235,
     "metadata": {},
     "output_type": "execute_result"
    }
   ],
   "source": [
    "b1 = ((zp * ks).mean() - (zp).mean() * (ks).mean()) / ((zp ** 2).mean() - zp.mean() ** 2)\n",
    "b1"
   ]
  },
  {
   "cell_type": "code",
   "execution_count": 236,
   "metadata": {},
   "outputs": [
    {
     "data": {
      "text/plain": [
       "array([ 91.71886088, 117.92424971, 497.90238766, 524.10777648,\n",
       "       104.8215553 , 183.43772177, 141.50909965, 393.08083236,\n",
       "       314.46466589, 288.25927706])"
      ]
     },
     "execution_count": 236,
     "metadata": {},
     "output_type": "execute_result"
    }
   ],
   "source": [
    "b1 * zp"
   ]
  },
  {
   "cell_type": "code",
   "execution_count": 237,
   "metadata": {},
   "outputs": [
    {
     "data": {
      "text/plain": [
       "444.1773573243596"
      ]
     },
     "execution_count": 237,
     "metadata": {},
     "output_type": "execute_result"
    }
   ],
   "source": [
    "b0 = ks.mean() - b1 * zp.mean()\n",
    "b0"
   ]
  },
  {
   "cell_type": "code",
   "execution_count": 238,
   "metadata": {},
   "outputs": [
    {
     "data": {
      "text/plain": [
       "array([535.89621821, 562.10160703, 942.07974498, 968.2851338 ,\n",
       "       548.99891262, 627.61507909, 585.68645697, 837.25818968,\n",
       "       758.64202321, 732.43663439])"
      ]
     },
     "execution_count": 238,
     "metadata": {},
     "output_type": "execute_result"
    }
   ],
   "source": [
    "y_pred = b0 + b1 * zp\n",
    "y_pred"
   ]
  },
  {
   "attachments": {},
   "cell_type": "markdown",
   "metadata": {},
   "source": [
    "2. Матричный метод"
   ]
  },
  {
   "cell_type": "code",
   "execution_count": 239,
   "metadata": {},
   "outputs": [
    {
     "data": {
      "text/plain": [
       "array([[ 35],\n",
       "       [ 45],\n",
       "       [190],\n",
       "       [200],\n",
       "       [ 40],\n",
       "       [ 70],\n",
       "       [ 54],\n",
       "       [150],\n",
       "       [120],\n",
       "       [110]])"
      ]
     },
     "execution_count": 239,
     "metadata": {},
     "output_type": "execute_result"
    }
   ],
   "source": [
    "x = zp.reshape(-1, 1)\n",
    "x"
   ]
  },
  {
   "cell_type": "code",
   "execution_count": 240,
   "metadata": {},
   "outputs": [
    {
     "data": {
      "text/plain": [
       "array([[401],\n",
       "       [574],\n",
       "       [874],\n",
       "       [919],\n",
       "       [459],\n",
       "       [739],\n",
       "       [653],\n",
       "       [902],\n",
       "       [746],\n",
       "       [832]])"
      ]
     },
     "execution_count": 240,
     "metadata": {},
     "output_type": "execute_result"
    }
   ],
   "source": [
    "y = ks.reshape(-1, 1)\n",
    "y"
   ]
  },
  {
   "cell_type": "code",
   "execution_count": 241,
   "metadata": {},
   "outputs": [
    {
     "data": {
      "text/plain": [
       "5.889820420132689"
      ]
     },
     "execution_count": 241,
     "metadata": {},
     "output_type": "execute_result"
    }
   ],
   "source": [
    "b_1 = (np.linalg.inv(x.T @ x) @ x.T @ y)[0,0]\n",
    "b_1"
   ]
  },
  {
   "cell_type": "code",
   "execution_count": 242,
   "metadata": {},
   "outputs": [
    {
     "data": {
      "text/plain": [
       "array([[  1.,  35.],\n",
       "       [  1.,  45.],\n",
       "       [  1., 190.],\n",
       "       [  1., 200.],\n",
       "       [  1.,  40.],\n",
       "       [  1.,  70.],\n",
       "       [  1.,  54.],\n",
       "       [  1., 150.],\n",
       "       [  1., 120.],\n",
       "       [  1., 110.]])"
      ]
     },
     "execution_count": 242,
     "metadata": {},
     "output_type": "execute_result"
    }
   ],
   "source": [
    "x1 = np.hstack((np.ones([10, 1]), x))\n",
    "x1"
   ]
  },
  {
   "cell_type": "code",
   "execution_count": 243,
   "metadata": {},
   "outputs": [
    {
     "data": {
      "text/plain": [
       "(444.1773573243596, 2.6205388824027636)"
      ]
     },
     "execution_count": 243,
     "metadata": {},
     "output_type": "execute_result"
    }
   ],
   "source": [
    "b_1_0 =(np.linalg.inv(x1.T @ x1) @ x1.T @ y)\n",
    "b_1_0[0,0],b_1_0[1,0]"
   ]
  },
  {
   "cell_type": "code",
   "execution_count": 244,
   "metadata": {},
   "outputs": [
    {
     "data": {
      "image/png": "[encoded data removed]",
      "text/plain": [
       "<Figure size 640x480 with 1 Axes>"
      ]
     },
     "metadata": {},
     "output_type": "display_data"
    }
   ],
   "source": [
    "plt.scatter(zp, ks, label='Выборка')\n",
    "plt.xlabel(\"заработная плата\")\n",
    "plt.ylabel(\"скоринговый балл\")\n",
    "plt.plot(x, b_1*zp, 'r*-', label = 'Без intercept')\n",
    "plt.plot(x, b_1_0[0,0] + b_1_0[1,0] * zp, \"g*-\", label = 'C intercept')\n",
    "plt.tight_layout()\n",
    "plt.legend()\n",
    "plt.show()\n"
   ]
  },
  {
   "attachments": {},
   "cell_type": "markdown",
   "metadata": {},
   "source": [
    "## Задача 2\n",
    "\n",
    ">- Посчитать коэффициент линейной регрессии при заработной плате (zp), используя градиентный спуск (без intercept)."
   ]
  },
  {
   "cell_type": "code",
   "execution_count": 245,
   "metadata": {},
   "outputs": [
    {
     "name": "stdout",
     "output_type": "stream",
     "text": [
      "Iteration = 0, B1 = 0.25952808, mse = 493237.7212546963\n",
      "Iteration = 500, B1 = 5.889815595583751, mse = 56516.858416040064\n",
      "Iteration = 1000, B1 = 5.8898204201285544, mse = 56516.85841571941\n",
      "Iteration = 1500, B1 = 5.889820420132673, mse = 56516.85841571943\n",
      "Iteration = 2000, B1 = 5.889820420132673, mse = 56516.85841571943\n",
      "Iteration = 2500, B1 = 5.889820420132673, mse = 56516.85841571943\n"
     ]
    }
   ],
   "source": [
    "def mse_(b1, x=zp, y=ks, n=zp.shape[0]):\n",
    "    return ((b1 * x - y) ** 2).sum() / n\n",
    "\n",
    "n = zp.shape[0]\n",
    "alpha = 1e-6\n",
    "B1 = 0.1\n",
    "for i in range(3000):\n",
    "    B1 -= alpha * 2 / n * ((B1 * x - y ) * x).sum()\n",
    "    if not i % 500:\n",
    "        print(f'Iteration = {i}, B1 = {B1}, mse = {mse_(B1)}')"
   ]
  },
  {
   "cell_type": "code",
   "execution_count": 246,
   "metadata": {},
   "outputs": [
    {
     "data": {
      "text/plain": [
       "56516.85841572182"
      ]
     },
     "execution_count": 246,
     "metadata": {},
     "output_type": "execute_result"
    }
   ],
   "source": [
    "mse_(5.88982)"
   ]
  },
  {
   "attachments": {},
   "cell_type": "markdown",
   "metadata": {},
   "source": [
    "## Задача 3\n",
    "\n",
    "> Произвести вычисления как в пункте 2, но с вычислением intercept. Учесть, что изменение коэффициентов должно производиться на каждом шаге одновременно (то есть изменение одного коэффициента не должно влиять на изменение другого во время одной итерации)."
   ]
  },
  {
   "attachments": {},
   "cell_type": "markdown",
   "metadata": {},
   "source": [
    "Найдем производные"
   ]
  },
  {
   "cell_type": "code",
   "execution_count": 247,
   "metadata": {},
   "outputs": [
    {
     "data": {
      "text/latex": [
       "$\\displaystyle \\frac{\\left(- \\beta_{0} - \\beta_{1} x + y\\right)^{2}}{n}$"
      ],
      "text/plain": [
       "(-beta_0 - beta_1*x + y)**2/n"
      ]
     },
     "execution_count": 247,
     "metadata": {},
     "output_type": "execute_result"
    }
   ],
   "source": [
    "beta0, beta1, xi, yi, nn = sym.symbols('beta_0, beta_1, x, y, n')\n",
    "SSE = ((yi - (beta0 + beta1 * xi)) ** 2)/nn\n",
    "\n",
    "SSE"
   ]
  },
  {
   "cell_type": "code",
   "execution_count": 248,
   "metadata": {},
   "outputs": [
    {
     "data": {
      "text/latex": [
       "$\\displaystyle - \\frac{2 x \\left(- \\beta_{0} - \\beta_{1} x + y\\right)}{n}$"
      ],
      "text/plain": [
       "-2*x*(-beta_0 - beta_1*x + y)/n"
      ]
     },
     "execution_count": 248,
     "metadata": {},
     "output_type": "execute_result"
    }
   ],
   "source": [
    "sym.diff(SSE,beta1)"
   ]
  },
  {
   "cell_type": "code",
   "execution_count": 249,
   "metadata": {},
   "outputs": [
    {
     "data": {
      "text/latex": [
       "$\\displaystyle \\frac{2 \\beta_{0} + 2 \\beta_{1} x - 2 y}{n}$"
      ],
      "text/plain": [
       "(2*beta_0 + 2*beta_1*x - 2*y)/n"
      ]
     },
     "execution_count": 249,
     "metadata": {},
     "output_type": "execute_result"
    }
   ],
   "source": [
    "sym.diff(SSE,beta0)"
   ]
  },
  {
   "cell_type": "code",
   "execution_count": 250,
   "metadata": {},
   "outputs": [
    {
     "name": "stdout",
     "output_type": "stream",
     "text": [
      "Iteration = 0, B0 = 400.0059952, B1 = 0.8840808000000001\n",
      "Iteration = 1000000, B0 = 443.900790592795, B1 = 2.6225745358242567\n",
      "Iteration = 2000000, B0 = 444.1756250834458, B1 = 2.6205516324617584\n",
      "Iteration = 3000000, B0 = 444.177346474686, B1 = 2.62053896226116\n",
      "Iteration = 4000000, B0 = 444.1773572562525, B1 = 2.6205388829040634\n",
      "Iteration = 5000000, B0 = 444.17735731875723, B1 = 2.6205388824440012\n",
      "Iteration = 6000000, B0 = 444.17735731875723, B1 = 2.6205388824440012\n"
     ]
    }
   ],
   "source": [
    "x, y = zp, ks\n",
    "b0, b1 = 400, 0.1\n",
    "n = x.shape[0]\n",
    "lr = 1e-5\n",
    "epochs = 6000000\n",
    "\n",
    "for epoch in range(epochs +1):    \n",
    "    cost_b0 = 2 /n * (b0 + b1 * x - y).sum()\n",
    "    cost_b1 = -2 / n * ((y - b0 - b1*x)*x).sum()   \n",
    "    b0 = b0 - lr * cost_b0\n",
    "    b1 = b1 - lr * cost_b1\n",
    "        \n",
    "    \n",
    "    if not epoch % 1000000:\n",
    "        print(f'Iteration = {epoch}, B0 = {b0}, B1 = {b1}')"
   ]
  },
  {
   "attachments": {},
   "cell_type": "markdown",
   "metadata": {},
   "source": [
    "Проверка"
   ]
  },
  {
   "cell_type": "code",
   "execution_count": 251,
   "metadata": {},
   "outputs": [
    {
     "data": {
      "text/plain": [
       "(444.17735732435943, 2.6205388824027667)"
      ]
     },
     "execution_count": 251,
     "metadata": {},
     "output_type": "execute_result"
    }
   ],
   "source": [
    "model = LinearRegression()\n",
    "x = x.reshape(-1, 1)\n",
    "\n",
    "regres = model.fit(x, y)\n",
    "b0 = regres.intercept_\n",
    "b1 = regres.coef_[0]\n",
    "b0,b1"
   ]
  }
 ],
 "metadata": {
  "kernelspec": {
   "display_name": "Python 3",
   "language": "python",
   "name": "python3"
  },
  "language_info": {
   "codemirror_mode": {
    "name": "ipython",
    "version": 3
   },
   "file_extension": ".py",
   "mimetype": "text/x-python",
   "name": "python",
   "nbconvert_exporter": "python",
   "pygments_lexer": "ipython3",
   "version": "3.11.1"
  },
  "orig_nbformat": 4,
  "vscode": {
   "interpreter": {
    "hash": "544efe9c901d221eaa4c7a5862801d7529b5b8bf4dfb1b417d3883841281e383"
   }
  }
 },
 "nbformat": 4,
 "nbformat_minor": 2
}
